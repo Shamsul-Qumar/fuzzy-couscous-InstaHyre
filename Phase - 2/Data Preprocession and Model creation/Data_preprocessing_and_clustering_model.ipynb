{
 "cells": [
  {
   "cell_type": "code",
   "execution_count": 1,
   "id": "2fb3d663-224b-42b1-ab78-5fa920690020",
   "metadata": {},
   "outputs": [],
   "source": [
    "import numpy as np\n",
    "import pandas as pd\n",
    "import matplotlib.pyplot as plt\n",
    "import seaborn as sns\n",
    "import warnings\n",
    "warnings.filterwarnings(\"ignore\")"
   ]
  },
  {
   "cell_type": "code",
   "execution_count": 2,
   "id": "f7e13cac-dec2-4f19-84c3-b1f8a2b58575",
   "metadata": {},
   "outputs": [],
   "source": [
    "pd.set_option('max_colwidth', 100)"
   ]
  },
  {
   "cell_type": "code",
   "execution_count": 3,
   "id": "c601ecb3-e2f0-4654-adb4-dbccbf6d235e",
   "metadata": {},
   "outputs": [],
   "source": [
    "df = pd.read_csv('Table_622.csv')"
   ]
  },
  {
   "cell_type": "code",
   "execution_count": 4,
   "id": "79e234a5-fa7a-4784-acfc-786f9a7f0abc",
   "metadata": {},
   "outputs": [
    {
     "data": {
      "text/html": [
       "<div>\n",
       "<style scoped>\n",
       "    .dataframe tbody tr th:only-of-type {\n",
       "        vertical-align: middle;\n",
       "    }\n",
       "\n",
       "    .dataframe tbody tr th {\n",
       "        vertical-align: top;\n",
       "    }\n",
       "\n",
       "    .dataframe thead th {\n",
       "        text-align: right;\n",
       "    }\n",
       "</style>\n",
       "<table border=\"1\" class=\"dataframe\">\n",
       "  <thead>\n",
       "    <tr style=\"text-align: right;\">\n",
       "      <th></th>\n",
       "      <th>name</th>\n",
       "      <th>estab_year</th>\n",
       "      <th>employees_count</th>\n",
       "      <th>location</th>\n",
       "      <th>job_ids</th>\n",
       "      <th>skills</th>\n",
       "      <th>hr</th>\n",
       "      <th>Designation</th>\n",
       "      <th>Involvement</th>\n",
       "      <th>Exp</th>\n",
       "      <th>url</th>\n",
       "      <th>Industry</th>\n",
       "    </tr>\n",
       "  </thead>\n",
       "  <tbody>\n",
       "    <tr>\n",
       "      <th>0</th>\n",
       "      <td>AGCO Corporation</td>\n",
       "      <td>Founded in 1990</td>\n",
       "      <td>More than 1000 employees</td>\n",
       "      <td>Bangalore</td>\n",
       "      <td>238770</td>\n",
       "      <td>Product Management, Agile, Data Analysis, Stakeholder Management, Warranty Management</td>\n",
       "      <td>Siddhartha S</td>\n",
       "      <td>Product Owner</td>\n",
       "      <td>Technical Management → Product Manageme</td>\n",
       "      <td>5-9 Years</td>\n",
       "      <td>https://www.instahyre.com/job-238770-product-owner-at-agco-corporation-bangalore/</td>\n",
       "      <td>Agriculture / Dairy</td>\n",
       "    </tr>\n",
       "    <tr>\n",
       "      <th>1</th>\n",
       "      <td>Digicides</td>\n",
       "      <td>Founded in 2017</td>\n",
       "      <td>10 - 50 employees</td>\n",
       "      <td>Hyderabad, Pune</td>\n",
       "      <td>232279</td>\n",
       "      <td>Business Development, Corporate Sales, Sales</td>\n",
       "      <td>Pratiksha Yaduwanshi</td>\n",
       "      <td>Sales Associate</td>\n",
       "      <td>Sales and Business → Sales / Business Developme</td>\n",
       "      <td>1-4 Years</td>\n",
       "      <td>https://www.instahyre.com/job-232279-sales-associate-at-digicides-hyderabad-pune/</td>\n",
       "      <td>Agriculture / Dairy</td>\n",
       "    </tr>\n",
       "    <tr>\n",
       "      <th>2</th>\n",
       "      <td>Kern Seedtech</td>\n",
       "      <td>Founded in 2021</td>\n",
       "      <td>10 - 50 employees</td>\n",
       "      <td>Work From Home</td>\n",
       "      <td>258174</td>\n",
       "      <td>Brand Management, Business Development, Corporate Strategy, General Management, Operations Manag...</td>\n",
       "      <td>Ankit Garg</td>\n",
       "      <td>CRM &amp; Digital Marketing Specialist</td>\n",
       "      <td>Sales and Business → General Management / Strategy</td>\n",
       "      <td>3-6 Years</td>\n",
       "      <td>https://www.instahyre.com/job-258174-crm-digital-marketing-specialist-at-kern-seedtech-work-from...</td>\n",
       "      <td>Agriculture / Dairy</td>\n",
       "    </tr>\n",
       "    <tr>\n",
       "      <th>3</th>\n",
       "      <td>Blue Ocean Academy</td>\n",
       "      <td>Founded in 1988</td>\n",
       "      <td>10 - 50 employees</td>\n",
       "      <td>Delhi</td>\n",
       "      <td>220759</td>\n",
       "      <td>Direct Sales, Telecalling</td>\n",
       "      <td>Deepak Mahajan</td>\n",
       "      <td>Training Consultant</td>\n",
       "      <td>Sales and Business → Sales / Business Developme</td>\n",
       "      <td>2-4 Years</td>\n",
       "      <td>https://www.instahyre.com/job-220759-training-consultant-at-blue-ocean-academy-delhi/</td>\n",
       "      <td>Airlines / Aviation / Aerospace</td>\n",
       "    </tr>\n",
       "    <tr>\n",
       "      <th>4</th>\n",
       "      <td>SugarBox Networks</td>\n",
       "      <td>Founded in 2016</td>\n",
       "      <td>200 - 500 employees</td>\n",
       "      <td>Mumbai</td>\n",
       "      <td>241862</td>\n",
       "      <td>Business Development, Sales</td>\n",
       "      <td>Aparna Chaphekar</td>\n",
       "      <td>Business Development Manager</td>\n",
       "      <td>Sales and Business → Sales / Business Developme</td>\n",
       "      <td>2-6 Years</td>\n",
       "      <td>https://www.instahyre.com/job-241862-business-development-manager-at-sugarbox-networks-mumbai/</td>\n",
       "      <td>Airlines / Aviation / Aerospace</td>\n",
       "    </tr>\n",
       "  </tbody>\n",
       "</table>\n",
       "</div>"
      ],
      "text/plain": [
       "                 name       estab_year           employees_count  \\\n",
       "0    AGCO Corporation  Founded in 1990  More than 1000 employees   \n",
       "1           Digicides  Founded in 2017         10 - 50 employees   \n",
       "2       Kern Seedtech  Founded in 2021         10 - 50 employees   \n",
       "3  Blue Ocean Academy  Founded in 1988         10 - 50 employees   \n",
       "4   SugarBox Networks  Founded in 2016       200 - 500 employees   \n",
       "\n",
       "          location  job_ids  \\\n",
       "0        Bangalore   238770   \n",
       "1  Hyderabad, Pune   232279   \n",
       "2   Work From Home   258174   \n",
       "3            Delhi   220759   \n",
       "4           Mumbai   241862   \n",
       "\n",
       "                                                                                                skills  \\\n",
       "0                Product Management, Agile, Data Analysis, Stakeholder Management, Warranty Management   \n",
       "1                                                         Business Development, Corporate Sales, Sales   \n",
       "2  Brand Management, Business Development, Corporate Strategy, General Management, Operations Manag...   \n",
       "3                                                                            Direct Sales, Telecalling   \n",
       "4                                                                          Business Development, Sales   \n",
       "\n",
       "                     hr                         Designation  \\\n",
       "0          Siddhartha S                       Product Owner   \n",
       "1  Pratiksha Yaduwanshi                     Sales Associate   \n",
       "2            Ankit Garg  CRM & Digital Marketing Specialist   \n",
       "3        Deepak Mahajan                 Training Consultant   \n",
       "4      Aparna Chaphekar        Business Development Manager   \n",
       "\n",
       "                                          Involvement        Exp  \\\n",
       "0             Technical Management → Product Manageme  5-9 Years   \n",
       "1     Sales and Business → Sales / Business Developme  1-4 Years   \n",
       "2  Sales and Business → General Management / Strategy  3-6 Years   \n",
       "3     Sales and Business → Sales / Business Developme  2-4 Years   \n",
       "4     Sales and Business → Sales / Business Developme  2-6 Years   \n",
       "\n",
       "                                                                                                   url  \\\n",
       "0                    https://www.instahyre.com/job-238770-product-owner-at-agco-corporation-bangalore/   \n",
       "1                    https://www.instahyre.com/job-232279-sales-associate-at-digicides-hyderabad-pune/   \n",
       "2  https://www.instahyre.com/job-258174-crm-digital-marketing-specialist-at-kern-seedtech-work-from...   \n",
       "3                https://www.instahyre.com/job-220759-training-consultant-at-blue-ocean-academy-delhi/   \n",
       "4       https://www.instahyre.com/job-241862-business-development-manager-at-sugarbox-networks-mumbai/   \n",
       "\n",
       "                          Industry  \n",
       "0              Agriculture / Dairy  \n",
       "1              Agriculture / Dairy  \n",
       "2              Agriculture / Dairy  \n",
       "3  Airlines / Aviation / Aerospace  \n",
       "4  Airlines / Aviation / Aerospace  "
      ]
     },
     "execution_count": 4,
     "metadata": {},
     "output_type": "execute_result"
    }
   ],
   "source": [
    "df.head()"
   ]
  },
  {
   "cell_type": "code",
   "execution_count": 5,
   "id": "497d387f-3808-4b90-8bd5-9310acc2c80a",
   "metadata": {},
   "outputs": [],
   "source": [
    "df['Exp'] = df['Exp'].str.replace(' Years','')"
   ]
  },
  {
   "cell_type": "code",
   "execution_count": 6,
   "id": "cf2d9320-2bc4-4c6d-a707-74dfc4dac6e5",
   "metadata": {},
   "outputs": [
    {
     "data": {
      "text/plain": [
       "'5-9'"
      ]
     },
     "execution_count": 6,
     "metadata": {},
     "output_type": "execute_result"
    }
   ],
   "source": [
    "df['Exp'][0]"
   ]
  },
  {
   "cell_type": "code",
   "execution_count": 7,
   "id": "2bfad86e-832d-4513-9225-66a51751484f",
   "metadata": {},
   "outputs": [],
   "source": [
    "a = df['Exp'][1].split('-')"
   ]
  },
  {
   "cell_type": "code",
   "execution_count": 8,
   "id": "d38e9f95-5548-4c99-8869-41c376bb90c4",
   "metadata": {},
   "outputs": [
    {
     "data": {
      "text/plain": [
       "2.5"
      ]
     },
     "execution_count": 8,
     "metadata": {},
     "output_type": "execute_result"
    }
   ],
   "source": [
    "(int(a[0])+int(a[1]))/2"
   ]
  },
  {
   "cell_type": "code",
   "execution_count": 9,
   "id": "d3477795-e352-41f6-88d5-4914d5c48311",
   "metadata": {},
   "outputs": [],
   "source": [
    "#Taking mean of range of experience values\n",
    "\n",
    "df['Exp']=(df.Exp.str.split('-').str[0].astype('int64')+df.Exp.str.split('-').str[1].astype('int64'))/2"
   ]
  },
  {
   "cell_type": "code",
   "execution_count": 10,
   "id": "1d9954c2-20bf-47e0-ba96-b0fdd6de73ca",
   "metadata": {},
   "outputs": [
    {
     "data": {
      "text/plain": [
       "0      7.0\n",
       "1      2.5\n",
       "2      4.5\n",
       "3      3.0\n",
       "4      4.0\n",
       "      ... \n",
       "617    7.0\n",
       "618    5.0\n",
       "619    1.5\n",
       "620    2.0\n",
       "621    2.0\n",
       "Name: Exp, Length: 622, dtype: float64"
      ]
     },
     "execution_count": 10,
     "metadata": {},
     "output_type": "execute_result"
    }
   ],
   "source": [
    "df['Exp']"
   ]
  },
  {
   "cell_type": "code",
   "execution_count": 11,
   "id": "bd56977e-c767-49d3-9f23-5fc7513d9946",
   "metadata": {},
   "outputs": [],
   "source": [
    "# creating bins (intervals) of mean experience values\n",
    "df['Exp_range']=pd.cut(df['Exp'], bins=[-1,0,3,5,8,12,21])"
   ]
  },
  {
   "cell_type": "code",
   "execution_count": 12,
   "id": "bf08bf3a-682c-460c-a7b4-b58bab8120f4",
   "metadata": {},
   "outputs": [
    {
     "data": {
      "text/html": [
       "<div>\n",
       "<style scoped>\n",
       "    .dataframe tbody tr th:only-of-type {\n",
       "        vertical-align: middle;\n",
       "    }\n",
       "\n",
       "    .dataframe tbody tr th {\n",
       "        vertical-align: top;\n",
       "    }\n",
       "\n",
       "    .dataframe thead th {\n",
       "        text-align: right;\n",
       "    }\n",
       "</style>\n",
       "<table border=\"1\" class=\"dataframe\">\n",
       "  <thead>\n",
       "    <tr style=\"text-align: right;\">\n",
       "      <th></th>\n",
       "      <th>Exp</th>\n",
       "      <th>Exp_range</th>\n",
       "    </tr>\n",
       "  </thead>\n",
       "  <tbody>\n",
       "    <tr>\n",
       "      <th>0</th>\n",
       "      <td>7.0</td>\n",
       "      <td>(5, 8]</td>\n",
       "    </tr>\n",
       "    <tr>\n",
       "      <th>1</th>\n",
       "      <td>2.5</td>\n",
       "      <td>(0, 3]</td>\n",
       "    </tr>\n",
       "    <tr>\n",
       "      <th>2</th>\n",
       "      <td>4.5</td>\n",
       "      <td>(3, 5]</td>\n",
       "    </tr>\n",
       "    <tr>\n",
       "      <th>3</th>\n",
       "      <td>3.0</td>\n",
       "      <td>(0, 3]</td>\n",
       "    </tr>\n",
       "    <tr>\n",
       "      <th>4</th>\n",
       "      <td>4.0</td>\n",
       "      <td>(3, 5]</td>\n",
       "    </tr>\n",
       "    <tr>\n",
       "      <th>...</th>\n",
       "      <td>...</td>\n",
       "      <td>...</td>\n",
       "    </tr>\n",
       "    <tr>\n",
       "      <th>617</th>\n",
       "      <td>7.0</td>\n",
       "      <td>(5, 8]</td>\n",
       "    </tr>\n",
       "    <tr>\n",
       "      <th>618</th>\n",
       "      <td>5.0</td>\n",
       "      <td>(3, 5]</td>\n",
       "    </tr>\n",
       "    <tr>\n",
       "      <th>619</th>\n",
       "      <td>1.5</td>\n",
       "      <td>(0, 3]</td>\n",
       "    </tr>\n",
       "    <tr>\n",
       "      <th>620</th>\n",
       "      <td>2.0</td>\n",
       "      <td>(0, 3]</td>\n",
       "    </tr>\n",
       "    <tr>\n",
       "      <th>621</th>\n",
       "      <td>2.0</td>\n",
       "      <td>(0, 3]</td>\n",
       "    </tr>\n",
       "  </tbody>\n",
       "</table>\n",
       "<p>622 rows × 2 columns</p>\n",
       "</div>"
      ],
      "text/plain": [
       "     Exp Exp_range\n",
       "0    7.0    (5, 8]\n",
       "1    2.5    (0, 3]\n",
       "2    4.5    (3, 5]\n",
       "3    3.0    (0, 3]\n",
       "4    4.0    (3, 5]\n",
       "..   ...       ...\n",
       "617  7.0    (5, 8]\n",
       "618  5.0    (3, 5]\n",
       "619  1.5    (0, 3]\n",
       "620  2.0    (0, 3]\n",
       "621  2.0    (0, 3]\n",
       "\n",
       "[622 rows x 2 columns]"
      ]
     },
     "execution_count": 12,
     "metadata": {},
     "output_type": "execute_result"
    }
   ],
   "source": [
    "df[['Exp','Exp_range']]"
   ]
  },
  {
   "cell_type": "code",
   "execution_count": 13,
   "id": "b85c5dd3-cf0f-47ed-abcb-d36ad1d72ac2",
   "metadata": {},
   "outputs": [
    {
     "data": {
      "text/plain": [
       "(0, 3]      280\n",
       "(3, 5]      193\n",
       "(5, 8]       89\n",
       "(8, 12]      49\n",
       "(12, 21]      7\n",
       "(-1, 0]       4\n",
       "Name: Exp_range, dtype: int64"
      ]
     },
     "execution_count": 13,
     "metadata": {},
     "output_type": "execute_result"
    }
   ],
   "source": [
    "df['Exp_range'].value_counts()"
   ]
  },
  {
   "cell_type": "code",
   "execution_count": 14,
   "id": "d1f2ff68-e820-4855-be0c-8b919af834f3",
   "metadata": {},
   "outputs": [],
   "source": [
    "# encoding the above interval values of experience\n",
    "from sklearn.preprocessing import LabelEncoder\n",
    "le = LabelEncoder()"
   ]
  },
  {
   "cell_type": "code",
   "execution_count": 15,
   "id": "e04a764d-613b-48d3-a850-e22e15518bee",
   "metadata": {},
   "outputs": [],
   "source": [
    "df['Exp_range'] = le.fit_transform(df['Exp_range'])"
   ]
  },
  {
   "cell_type": "code",
   "execution_count": 16,
   "id": "80a1ee75-9318-4344-b7e9-63dd9bb2f9b8",
   "metadata": {},
   "outputs": [
    {
     "data": {
      "text/plain": [
       "1    280\n",
       "2    193\n",
       "3     89\n",
       "4     49\n",
       "5      7\n",
       "0      4\n",
       "Name: Exp_range, dtype: int64"
      ]
     },
     "execution_count": 16,
     "metadata": {},
     "output_type": "execute_result"
    }
   ],
   "source": [
    "df['Exp_range'].value_counts()"
   ]
  },
  {
   "cell_type": "code",
   "execution_count": 17,
   "id": "d4bcc669-f235-4c93-9181-c7e7c18cdbee",
   "metadata": {},
   "outputs": [],
   "source": [
    "# entry-level, intermediate, mid-level, and senior or executive level.\n",
    "# 0 - Fresher - (-1, 0]       4\n",
    "# 1 - Junior Level - (0, 3]      281\n",
    "# 2 - Intermediate Level - (3, 5]      193\n",
    "# 3 - Mid - Senior Level - (5, 8]     121\n",
    "# 4 - Senior - (8, 12]     17\n",
    "# 5 - Executive - (12, 21]      7"
   ]
  },
  {
   "cell_type": "code",
   "execution_count": 18,
   "id": "812ee5c0-438c-4b6a-90f2-c504a61b9650",
   "metadata": {},
   "outputs": [],
   "source": [
    "# applying class categorization of experience levels \n",
    "def Experince_level(val):\n",
    "    if val==0:\n",
    "        return 'Fresher'\n",
    "    elif val==1:\n",
    "        return 'Junior Level'\n",
    "    elif val==2:\n",
    "        return 'Intermediate Level'\n",
    "    elif val==3:\n",
    "        return 'Mid Senior Level'\n",
    "    elif val==4:\n",
    "        return 'Senior'\n",
    "    elif val==5:\n",
    "        return 'Executive'"
   ]
  },
  {
   "cell_type": "code",
   "execution_count": 19,
   "id": "d38f48d7-0a70-4820-acc9-1b26f45b60af",
   "metadata": {},
   "outputs": [],
   "source": [
    "df['Experince_level'] = df['Exp_range'].apply(Experince_level)"
   ]
  },
  {
   "cell_type": "code",
   "execution_count": 20,
   "id": "0bbfeb5f-b6bc-4c19-941c-d88b10973ecf",
   "metadata": {},
   "outputs": [
    {
     "data": {
      "text/html": [
       "<div>\n",
       "<style scoped>\n",
       "    .dataframe tbody tr th:only-of-type {\n",
       "        vertical-align: middle;\n",
       "    }\n",
       "\n",
       "    .dataframe tbody tr th {\n",
       "        vertical-align: top;\n",
       "    }\n",
       "\n",
       "    .dataframe thead th {\n",
       "        text-align: right;\n",
       "    }\n",
       "</style>\n",
       "<table border=\"1\" class=\"dataframe\">\n",
       "  <thead>\n",
       "    <tr style=\"text-align: right;\">\n",
       "      <th></th>\n",
       "      <th>name</th>\n",
       "      <th>estab_year</th>\n",
       "      <th>employees_count</th>\n",
       "      <th>location</th>\n",
       "      <th>job_ids</th>\n",
       "      <th>skills</th>\n",
       "      <th>hr</th>\n",
       "      <th>Designation</th>\n",
       "      <th>Involvement</th>\n",
       "      <th>Exp</th>\n",
       "      <th>url</th>\n",
       "      <th>Industry</th>\n",
       "      <th>Exp_range</th>\n",
       "      <th>Experince_level</th>\n",
       "    </tr>\n",
       "  </thead>\n",
       "  <tbody>\n",
       "    <tr>\n",
       "      <th>0</th>\n",
       "      <td>AGCO Corporation</td>\n",
       "      <td>Founded in 1990</td>\n",
       "      <td>More than 1000 employees</td>\n",
       "      <td>Bangalore</td>\n",
       "      <td>238770</td>\n",
       "      <td>Product Management, Agile, Data Analysis, Stakeholder Management, Warranty Management</td>\n",
       "      <td>Siddhartha S</td>\n",
       "      <td>Product Owner</td>\n",
       "      <td>Technical Management → Product Manageme</td>\n",
       "      <td>7.0</td>\n",
       "      <td>https://www.instahyre.com/job-238770-product-owner-at-agco-corporation-bangalore/</td>\n",
       "      <td>Agriculture / Dairy</td>\n",
       "      <td>3</td>\n",
       "      <td>Mid Senior Level</td>\n",
       "    </tr>\n",
       "    <tr>\n",
       "      <th>1</th>\n",
       "      <td>Digicides</td>\n",
       "      <td>Founded in 2017</td>\n",
       "      <td>10 - 50 employees</td>\n",
       "      <td>Hyderabad, Pune</td>\n",
       "      <td>232279</td>\n",
       "      <td>Business Development, Corporate Sales, Sales</td>\n",
       "      <td>Pratiksha Yaduwanshi</td>\n",
       "      <td>Sales Associate</td>\n",
       "      <td>Sales and Business → Sales / Business Developme</td>\n",
       "      <td>2.5</td>\n",
       "      <td>https://www.instahyre.com/job-232279-sales-associate-at-digicides-hyderabad-pune/</td>\n",
       "      <td>Agriculture / Dairy</td>\n",
       "      <td>1</td>\n",
       "      <td>Junior Level</td>\n",
       "    </tr>\n",
       "    <tr>\n",
       "      <th>2</th>\n",
       "      <td>Kern Seedtech</td>\n",
       "      <td>Founded in 2021</td>\n",
       "      <td>10 - 50 employees</td>\n",
       "      <td>Work From Home</td>\n",
       "      <td>258174</td>\n",
       "      <td>Brand Management, Business Development, Corporate Strategy, General Management, Operations Manag...</td>\n",
       "      <td>Ankit Garg</td>\n",
       "      <td>CRM &amp; Digital Marketing Specialist</td>\n",
       "      <td>Sales and Business → General Management / Strategy</td>\n",
       "      <td>4.5</td>\n",
       "      <td>https://www.instahyre.com/job-258174-crm-digital-marketing-specialist-at-kern-seedtech-work-from...</td>\n",
       "      <td>Agriculture / Dairy</td>\n",
       "      <td>2</td>\n",
       "      <td>Intermediate Level</td>\n",
       "    </tr>\n",
       "    <tr>\n",
       "      <th>3</th>\n",
       "      <td>Blue Ocean Academy</td>\n",
       "      <td>Founded in 1988</td>\n",
       "      <td>10 - 50 employees</td>\n",
       "      <td>Delhi</td>\n",
       "      <td>220759</td>\n",
       "      <td>Direct Sales, Telecalling</td>\n",
       "      <td>Deepak Mahajan</td>\n",
       "      <td>Training Consultant</td>\n",
       "      <td>Sales and Business → Sales / Business Developme</td>\n",
       "      <td>3.0</td>\n",
       "      <td>https://www.instahyre.com/job-220759-training-consultant-at-blue-ocean-academy-delhi/</td>\n",
       "      <td>Airlines / Aviation / Aerospace</td>\n",
       "      <td>1</td>\n",
       "      <td>Junior Level</td>\n",
       "    </tr>\n",
       "    <tr>\n",
       "      <th>4</th>\n",
       "      <td>SugarBox Networks</td>\n",
       "      <td>Founded in 2016</td>\n",
       "      <td>200 - 500 employees</td>\n",
       "      <td>Mumbai</td>\n",
       "      <td>241862</td>\n",
       "      <td>Business Development, Sales</td>\n",
       "      <td>Aparna Chaphekar</td>\n",
       "      <td>Business Development Manager</td>\n",
       "      <td>Sales and Business → Sales / Business Developme</td>\n",
       "      <td>4.0</td>\n",
       "      <td>https://www.instahyre.com/job-241862-business-development-manager-at-sugarbox-networks-mumbai/</td>\n",
       "      <td>Airlines / Aviation / Aerospace</td>\n",
       "      <td>2</td>\n",
       "      <td>Intermediate Level</td>\n",
       "    </tr>\n",
       "  </tbody>\n",
       "</table>\n",
       "</div>"
      ],
      "text/plain": [
       "                 name       estab_year           employees_count  \\\n",
       "0    AGCO Corporation  Founded in 1990  More than 1000 employees   \n",
       "1           Digicides  Founded in 2017         10 - 50 employees   \n",
       "2       Kern Seedtech  Founded in 2021         10 - 50 employees   \n",
       "3  Blue Ocean Academy  Founded in 1988         10 - 50 employees   \n",
       "4   SugarBox Networks  Founded in 2016       200 - 500 employees   \n",
       "\n",
       "          location  job_ids  \\\n",
       "0        Bangalore   238770   \n",
       "1  Hyderabad, Pune   232279   \n",
       "2   Work From Home   258174   \n",
       "3            Delhi   220759   \n",
       "4           Mumbai   241862   \n",
       "\n",
       "                                                                                                skills  \\\n",
       "0                Product Management, Agile, Data Analysis, Stakeholder Management, Warranty Management   \n",
       "1                                                         Business Development, Corporate Sales, Sales   \n",
       "2  Brand Management, Business Development, Corporate Strategy, General Management, Operations Manag...   \n",
       "3                                                                            Direct Sales, Telecalling   \n",
       "4                                                                          Business Development, Sales   \n",
       "\n",
       "                     hr                         Designation  \\\n",
       "0          Siddhartha S                       Product Owner   \n",
       "1  Pratiksha Yaduwanshi                     Sales Associate   \n",
       "2            Ankit Garg  CRM & Digital Marketing Specialist   \n",
       "3        Deepak Mahajan                 Training Consultant   \n",
       "4      Aparna Chaphekar        Business Development Manager   \n",
       "\n",
       "                                          Involvement  Exp  \\\n",
       "0             Technical Management → Product Manageme  7.0   \n",
       "1     Sales and Business → Sales / Business Developme  2.5   \n",
       "2  Sales and Business → General Management / Strategy  4.5   \n",
       "3     Sales and Business → Sales / Business Developme  3.0   \n",
       "4     Sales and Business → Sales / Business Developme  4.0   \n",
       "\n",
       "                                                                                                   url  \\\n",
       "0                    https://www.instahyre.com/job-238770-product-owner-at-agco-corporation-bangalore/   \n",
       "1                    https://www.instahyre.com/job-232279-sales-associate-at-digicides-hyderabad-pune/   \n",
       "2  https://www.instahyre.com/job-258174-crm-digital-marketing-specialist-at-kern-seedtech-work-from...   \n",
       "3                https://www.instahyre.com/job-220759-training-consultant-at-blue-ocean-academy-delhi/   \n",
       "4       https://www.instahyre.com/job-241862-business-development-manager-at-sugarbox-networks-mumbai/   \n",
       "\n",
       "                          Industry  Exp_range     Experince_level  \n",
       "0              Agriculture / Dairy          3    Mid Senior Level  \n",
       "1              Agriculture / Dairy          1        Junior Level  \n",
       "2              Agriculture / Dairy          2  Intermediate Level  \n",
       "3  Airlines / Aviation / Aerospace          1        Junior Level  \n",
       "4  Airlines / Aviation / Aerospace          2  Intermediate Level  "
      ]
     },
     "execution_count": 20,
     "metadata": {},
     "output_type": "execute_result"
    }
   ],
   "source": [
    "df.head()"
   ]
  },
  {
   "cell_type": "code",
   "execution_count": 21,
   "id": "68f90668-41dc-4844-8968-73adcf736bc5",
   "metadata": {},
   "outputs": [],
   "source": [
    "#no need of these two columns Exp_range and Exp\n",
    "df.drop(['Exp_range','Exp'],axis=1,inplace=True)"
   ]
  },
  {
   "cell_type": "code",
   "execution_count": 22,
   "id": "44699b2f-ce34-4ff0-84aa-603d84442da7",
   "metadata": {},
   "outputs": [
    {
     "data": {
      "text/html": [
       "<div>\n",
       "<style scoped>\n",
       "    .dataframe tbody tr th:only-of-type {\n",
       "        vertical-align: middle;\n",
       "    }\n",
       "\n",
       "    .dataframe tbody tr th {\n",
       "        vertical-align: top;\n",
       "    }\n",
       "\n",
       "    .dataframe thead th {\n",
       "        text-align: right;\n",
       "    }\n",
       "</style>\n",
       "<table border=\"1\" class=\"dataframe\">\n",
       "  <thead>\n",
       "    <tr style=\"text-align: right;\">\n",
       "      <th></th>\n",
       "      <th>name</th>\n",
       "      <th>estab_year</th>\n",
       "      <th>employees_count</th>\n",
       "      <th>location</th>\n",
       "      <th>job_ids</th>\n",
       "      <th>skills</th>\n",
       "      <th>hr</th>\n",
       "      <th>Designation</th>\n",
       "      <th>Involvement</th>\n",
       "      <th>url</th>\n",
       "      <th>Industry</th>\n",
       "      <th>Experince_level</th>\n",
       "    </tr>\n",
       "  </thead>\n",
       "  <tbody>\n",
       "    <tr>\n",
       "      <th>0</th>\n",
       "      <td>AGCO Corporation</td>\n",
       "      <td>Founded in 1990</td>\n",
       "      <td>More than 1000 employees</td>\n",
       "      <td>Bangalore</td>\n",
       "      <td>238770</td>\n",
       "      <td>Product Management, Agile, Data Analysis, Stakeholder Management, Warranty Management</td>\n",
       "      <td>Siddhartha S</td>\n",
       "      <td>Product Owner</td>\n",
       "      <td>Technical Management → Product Manageme</td>\n",
       "      <td>https://www.instahyre.com/job-238770-product-owner-at-agco-corporation-bangalore/</td>\n",
       "      <td>Agriculture / Dairy</td>\n",
       "      <td>Mid Senior Level</td>\n",
       "    </tr>\n",
       "  </tbody>\n",
       "</table>\n",
       "</div>"
      ],
      "text/plain": [
       "               name       estab_year           employees_count   location  \\\n",
       "0  AGCO Corporation  Founded in 1990  More than 1000 employees  Bangalore   \n",
       "\n",
       "   job_ids  \\\n",
       "0   238770   \n",
       "\n",
       "                                                                                  skills  \\\n",
       "0  Product Management, Agile, Data Analysis, Stakeholder Management, Warranty Management   \n",
       "\n",
       "             hr    Designation                              Involvement  \\\n",
       "0  Siddhartha S  Product Owner  Technical Management → Product Manageme   \n",
       "\n",
       "                                                                                 url  \\\n",
       "0  https://www.instahyre.com/job-238770-product-owner-at-agco-corporation-bangalore/   \n",
       "\n",
       "              Industry   Experince_level  \n",
       "0  Agriculture / Dairy  Mid Senior Level  "
      ]
     },
     "execution_count": 22,
     "metadata": {},
     "output_type": "execute_result"
    }
   ],
   "source": [
    "df.head(1)"
   ]
  },
  {
   "cell_type": "code",
   "execution_count": 23,
   "id": "4104a7bd-884e-4ffd-afa3-f8744d038aa2",
   "metadata": {},
   "outputs": [
    {
     "data": {
      "text/plain": [
       "10 - 50 employees           203\n",
       "50 - 200 employees          189\n",
       "More than 1000 employees     81\n",
       "200 - 500 employees          80\n",
       "0 - 10 employees             39\n",
       "500 - 1000 employees         30\n",
       "Name: employees_count, dtype: int64"
      ]
     },
     "execution_count": 23,
     "metadata": {},
     "output_type": "execute_result"
    }
   ],
   "source": [
    "df['employees_count'].value_counts()"
   ]
  },
  {
   "cell_type": "code",
   "execution_count": 24,
   "id": "41656ada-66f2-481a-87c3-ab170b2dd5c3",
   "metadata": {},
   "outputs": [],
   "source": [
    "# taking mean values of employee range \n",
    "temp = {\n",
    "    \"More than 1000 employees\": 1000,\n",
    "    \"500 - 1000 employees\": 750,\n",
    "    \"50 - 200 employees\": 125,\n",
    "    \"200 - 500 employees\": 350,\n",
    "    \"10 - 50 employees\": 30,\n",
    "    \"0 - 10 employees\": 5\n",
    "}\n",
    "df['employees_count'] = df['employees_count'].replace(temp).astype('int64')"
   ]
  },
  {
   "cell_type": "code",
   "execution_count": 25,
   "id": "aa683c69-306f-4518-97d6-2ca949987964",
   "metadata": {},
   "outputs": [
    {
     "data": {
      "text/html": [
       "<div>\n",
       "<style scoped>\n",
       "    .dataframe tbody tr th:only-of-type {\n",
       "        vertical-align: middle;\n",
       "    }\n",
       "\n",
       "    .dataframe tbody tr th {\n",
       "        vertical-align: top;\n",
       "    }\n",
       "\n",
       "    .dataframe thead th {\n",
       "        text-align: right;\n",
       "    }\n",
       "</style>\n",
       "<table border=\"1\" class=\"dataframe\">\n",
       "  <thead>\n",
       "    <tr style=\"text-align: right;\">\n",
       "      <th></th>\n",
       "      <th>name</th>\n",
       "      <th>estab_year</th>\n",
       "      <th>employees_count</th>\n",
       "      <th>location</th>\n",
       "      <th>job_ids</th>\n",
       "      <th>skills</th>\n",
       "      <th>hr</th>\n",
       "      <th>Designation</th>\n",
       "      <th>Involvement</th>\n",
       "      <th>url</th>\n",
       "      <th>Industry</th>\n",
       "      <th>Experince_level</th>\n",
       "    </tr>\n",
       "  </thead>\n",
       "  <tbody>\n",
       "    <tr>\n",
       "      <th>0</th>\n",
       "      <td>AGCO Corporation</td>\n",
       "      <td>Founded in 1990</td>\n",
       "      <td>1000</td>\n",
       "      <td>Bangalore</td>\n",
       "      <td>238770</td>\n",
       "      <td>Product Management, Agile, Data Analysis, Stakeholder Management, Warranty Management</td>\n",
       "      <td>Siddhartha S</td>\n",
       "      <td>Product Owner</td>\n",
       "      <td>Technical Management → Product Manageme</td>\n",
       "      <td>https://www.instahyre.com/job-238770-product-owner-at-agco-corporation-bangalore/</td>\n",
       "      <td>Agriculture / Dairy</td>\n",
       "      <td>Mid Senior Level</td>\n",
       "    </tr>\n",
       "  </tbody>\n",
       "</table>\n",
       "</div>"
      ],
      "text/plain": [
       "               name       estab_year  employees_count   location  job_ids  \\\n",
       "0  AGCO Corporation  Founded in 1990             1000  Bangalore   238770   \n",
       "\n",
       "                                                                                  skills  \\\n",
       "0  Product Management, Agile, Data Analysis, Stakeholder Management, Warranty Management   \n",
       "\n",
       "             hr    Designation                              Involvement  \\\n",
       "0  Siddhartha S  Product Owner  Technical Management → Product Manageme   \n",
       "\n",
       "                                                                                 url  \\\n",
       "0  https://www.instahyre.com/job-238770-product-owner-at-agco-corporation-bangalore/   \n",
       "\n",
       "              Industry   Experince_level  \n",
       "0  Agriculture / Dairy  Mid Senior Level  "
      ]
     },
     "execution_count": 25,
     "metadata": {},
     "output_type": "execute_result"
    }
   ],
   "source": [
    "df.head(1)"
   ]
  },
  {
   "cell_type": "code",
   "execution_count": 26,
   "id": "9b8716d4-bdb7-481c-bbfd-56dd9a1a84c1",
   "metadata": {},
   "outputs": [],
   "source": [
    "# cleaning estab_year column and converting dtype to int\n",
    "df['estab_year'] = df['estab_year'].replace('[^0-9]','',regex=True).astype('int64')"
   ]
  },
  {
   "cell_type": "code",
   "execution_count": 27,
   "id": "5fed73d5-9429-4203-b64b-7d9aceb34352",
   "metadata": {},
   "outputs": [
    {
     "data": {
      "text/html": [
       "<div>\n",
       "<style scoped>\n",
       "    .dataframe tbody tr th:only-of-type {\n",
       "        vertical-align: middle;\n",
       "    }\n",
       "\n",
       "    .dataframe tbody tr th {\n",
       "        vertical-align: top;\n",
       "    }\n",
       "\n",
       "    .dataframe thead th {\n",
       "        text-align: right;\n",
       "    }\n",
       "</style>\n",
       "<table border=\"1\" class=\"dataframe\">\n",
       "  <thead>\n",
       "    <tr style=\"text-align: right;\">\n",
       "      <th></th>\n",
       "      <th>name</th>\n",
       "      <th>estab_year</th>\n",
       "      <th>employees_count</th>\n",
       "      <th>location</th>\n",
       "      <th>job_ids</th>\n",
       "      <th>skills</th>\n",
       "      <th>hr</th>\n",
       "      <th>Designation</th>\n",
       "      <th>Involvement</th>\n",
       "      <th>url</th>\n",
       "      <th>Industry</th>\n",
       "      <th>Experince_level</th>\n",
       "    </tr>\n",
       "  </thead>\n",
       "  <tbody>\n",
       "    <tr>\n",
       "      <th>0</th>\n",
       "      <td>AGCO Corporation</td>\n",
       "      <td>1990</td>\n",
       "      <td>1000</td>\n",
       "      <td>Bangalore</td>\n",
       "      <td>238770</td>\n",
       "      <td>Product Management, Agile, Data Analysis, Stakeholder Management, Warranty Management</td>\n",
       "      <td>Siddhartha S</td>\n",
       "      <td>Product Owner</td>\n",
       "      <td>Technical Management → Product Manageme</td>\n",
       "      <td>https://www.instahyre.com/job-238770-product-owner-at-agco-corporation-bangalore/</td>\n",
       "      <td>Agriculture / Dairy</td>\n",
       "      <td>Mid Senior Level</td>\n",
       "    </tr>\n",
       "  </tbody>\n",
       "</table>\n",
       "</div>"
      ],
      "text/plain": [
       "               name  estab_year  employees_count   location  job_ids  \\\n",
       "0  AGCO Corporation        1990             1000  Bangalore   238770   \n",
       "\n",
       "                                                                                  skills  \\\n",
       "0  Product Management, Agile, Data Analysis, Stakeholder Management, Warranty Management   \n",
       "\n",
       "             hr    Designation                              Involvement  \\\n",
       "0  Siddhartha S  Product Owner  Technical Management → Product Manageme   \n",
       "\n",
       "                                                                                 url  \\\n",
       "0  https://www.instahyre.com/job-238770-product-owner-at-agco-corporation-bangalore/   \n",
       "\n",
       "              Industry   Experince_level  \n",
       "0  Agriculture / Dairy  Mid Senior Level  "
      ]
     },
     "execution_count": 27,
     "metadata": {},
     "output_type": "execute_result"
    }
   ],
   "source": [
    "df.head(1)"
   ]
  },
  {
   "cell_type": "code",
   "execution_count": 28,
   "id": "6a338fbe-0e33-4b11-85ca-8ca396c03bdf",
   "metadata": {},
   "outputs": [],
   "source": [
    "# calculating age of the company\n",
    "df['AgeOfCompany'] = 2023 - df['estab_year']"
   ]
  },
  {
   "cell_type": "code",
   "execution_count": 29,
   "id": "98b52483-6920-4584-98b8-a0fe627b28b1",
   "metadata": {},
   "outputs": [
    {
     "data": {
      "text/html": [
       "<div>\n",
       "<style scoped>\n",
       "    .dataframe tbody tr th:only-of-type {\n",
       "        vertical-align: middle;\n",
       "    }\n",
       "\n",
       "    .dataframe tbody tr th {\n",
       "        vertical-align: top;\n",
       "    }\n",
       "\n",
       "    .dataframe thead th {\n",
       "        text-align: right;\n",
       "    }\n",
       "</style>\n",
       "<table border=\"1\" class=\"dataframe\">\n",
       "  <thead>\n",
       "    <tr style=\"text-align: right;\">\n",
       "      <th></th>\n",
       "      <th>name</th>\n",
       "      <th>estab_year</th>\n",
       "      <th>employees_count</th>\n",
       "      <th>location</th>\n",
       "      <th>job_ids</th>\n",
       "      <th>skills</th>\n",
       "      <th>hr</th>\n",
       "      <th>Designation</th>\n",
       "      <th>Involvement</th>\n",
       "      <th>url</th>\n",
       "      <th>Industry</th>\n",
       "      <th>Experince_level</th>\n",
       "      <th>AgeOfCompany</th>\n",
       "    </tr>\n",
       "  </thead>\n",
       "  <tbody>\n",
       "    <tr>\n",
       "      <th>297</th>\n",
       "      <td>Qualimatrix Technologies</td>\n",
       "      <td>2021</td>\n",
       "      <td>30</td>\n",
       "      <td>Indore</td>\n",
       "      <td>205510</td>\n",
       "      <td>Business Development, Sales</td>\n",
       "      <td>Vikram Mishra</td>\n",
       "      <td>Bussiness Development Executive</td>\n",
       "      <td>Sales and Business → Sales / Business Developme</td>\n",
       "      <td>https://www.instahyre.com/job-205510-bussiness-development-executive-at-qualimatrix-technologies...</td>\n",
       "      <td>Computer Software / IT / Internet</td>\n",
       "      <td>Junior Level</td>\n",
       "      <td>2</td>\n",
       "    </tr>\n",
       "    <tr>\n",
       "      <th>178</th>\n",
       "      <td>Sungevity Enterprise</td>\n",
       "      <td>2023</td>\n",
       "      <td>30</td>\n",
       "      <td>Pune</td>\n",
       "      <td>261719</td>\n",
       "      <td>BPO Operations, Call Center Operations, Customer Interaction, Customer Service</td>\n",
       "      <td>Amritpal Singh</td>\n",
       "      <td>Call Centre Operations Manager</td>\n",
       "      <td>Sales and Business → Customer Service</td>\n",
       "      <td>https://www.instahyre.com/job-261719-call-centre-operations-manager-at-sungevity-enterprise-pune/</td>\n",
       "      <td>Computer Software / IT / Internet</td>\n",
       "      <td>Junior Level</td>\n",
       "      <td>0</td>\n",
       "    </tr>\n",
       "    <tr>\n",
       "      <th>380</th>\n",
       "      <td>Blue Ocean Academy</td>\n",
       "      <td>1988</td>\n",
       "      <td>30</td>\n",
       "      <td>Delhi</td>\n",
       "      <td>220759</td>\n",
       "      <td>Direct Sales, Telecalling</td>\n",
       "      <td>Deepak Mahajan</td>\n",
       "      <td>Training Consultant</td>\n",
       "      <td>Sales and Business → Sales / Business Developme</td>\n",
       "      <td>https://www.instahyre.com/job-220759-training-consultant-at-blue-ocean-academy-delhi/</td>\n",
       "      <td>Education / Training</td>\n",
       "      <td>Junior Level</td>\n",
       "      <td>35</td>\n",
       "    </tr>\n",
       "  </tbody>\n",
       "</table>\n",
       "</div>"
      ],
      "text/plain": [
       "                         name  estab_year  employees_count location  job_ids  \\\n",
       "297  Qualimatrix Technologies        2021               30   Indore   205510   \n",
       "178      Sungevity Enterprise        2023               30     Pune   261719   \n",
       "380        Blue Ocean Academy        1988               30    Delhi   220759   \n",
       "\n",
       "                                                                             skills  \\\n",
       "297                                                     Business Development, Sales   \n",
       "178  BPO Operations, Call Center Operations, Customer Interaction, Customer Service   \n",
       "380                                                       Direct Sales, Telecalling   \n",
       "\n",
       "                 hr                      Designation  \\\n",
       "297   Vikram Mishra  Bussiness Development Executive   \n",
       "178  Amritpal Singh   Call Centre Operations Manager   \n",
       "380  Deepak Mahajan              Training Consultant   \n",
       "\n",
       "                                         Involvement  \\\n",
       "297  Sales and Business → Sales / Business Developme   \n",
       "178            Sales and Business → Customer Service   \n",
       "380  Sales and Business → Sales / Business Developme   \n",
       "\n",
       "                                                                                                     url  \\\n",
       "297  https://www.instahyre.com/job-205510-bussiness-development-executive-at-qualimatrix-technologies...   \n",
       "178    https://www.instahyre.com/job-261719-call-centre-operations-manager-at-sungevity-enterprise-pune/   \n",
       "380                https://www.instahyre.com/job-220759-training-consultant-at-blue-ocean-academy-delhi/   \n",
       "\n",
       "                              Industry Experince_level  AgeOfCompany  \n",
       "297  Computer Software / IT / Internet    Junior Level             2  \n",
       "178  Computer Software / IT / Internet    Junior Level             0  \n",
       "380               Education / Training    Junior Level            35  "
      ]
     },
     "execution_count": 29,
     "metadata": {},
     "output_type": "execute_result"
    }
   ],
   "source": [
    "df.sample(3)"
   ]
  },
  {
   "cell_type": "code",
   "execution_count": 30,
   "id": "6d55c345-9c2a-405b-84fd-c21acce95caf",
   "metadata": {},
   "outputs": [],
   "source": [
    "rename = {\n",
    "  'name' : 'CompanyName',\n",
    " 'estab_year' : 'Company_estab_year',\n",
    " 'employees_count' : 'employees_count',\n",
    " 'location': 'Location',\n",
    " 'job_ids' :'JobID',\n",
    " 'skills' :'Skills',\n",
    " 'hr' : 'Hr_name',\n",
    " 'Designation' : 'Job_Designation',\n",
    " 'Involvement' : 'Involvement',\n",
    " 'url' : 'Job_url',\n",
    " 'Industry' : 'Industry',\n",
    " 'Experince_level' : 'Experince_level',\n",
    " 'AgeOfCompany' : 'AgeOfCompany'\n",
    "}\n",
    "df.rename(columns = rename,inplace=True)"
   ]
  },
  {
   "cell_type": "code",
   "execution_count": 31,
   "id": "fd341071-d60d-4fd9-987c-185f3293a748",
   "metadata": {},
   "outputs": [
    {
     "data": {
      "text/plain": [
       "['CompanyName',\n",
       " 'Company_estab_year',\n",
       " 'employees_count',\n",
       " 'Location',\n",
       " 'JobID',\n",
       " 'Skills',\n",
       " 'Hr_name',\n",
       " 'Job_Designation',\n",
       " 'Involvement',\n",
       " 'Job_url',\n",
       " 'Industry',\n",
       " 'Experince_level',\n",
       " 'AgeOfCompany']"
      ]
     },
     "execution_count": 31,
     "metadata": {},
     "output_type": "execute_result"
    }
   ],
   "source": [
    "df.columns.to_list()\n",
    "# len(df.columns.to_list())  --> 13"
   ]
  },
  {
   "cell_type": "code",
   "execution_count": 32,
   "id": "d1cb3bfb-69a9-430f-8ed6-2e2a6fe51167",
   "metadata": {},
   "outputs": [],
   "source": [
    "reordering = ['JobID', 'Job_Designation', 'Involvement', 'Experince_level', 'Hr_name', 'Skills', 'CompanyName', 'Company_estab_year', 'AgeOfCompany',\n",
    "              'Industry', 'Location', 'employees_count', 'Job_url' ]"
   ]
  },
  {
   "cell_type": "code",
   "execution_count": 33,
   "id": "cf8e7efb-0096-4861-8a36-7b5e5cfa6ba7",
   "metadata": {},
   "outputs": [
    {
     "data": {
      "text/plain": [
       "13"
      ]
     },
     "execution_count": 33,
     "metadata": {},
     "output_type": "execute_result"
    }
   ],
   "source": [
    "len(reordering)"
   ]
  },
  {
   "cell_type": "code",
   "execution_count": 34,
   "id": "a5a46ab5-9f71-4704-957d-f394bc8446c0",
   "metadata": {},
   "outputs": [],
   "source": [
    "# reordering dataframe \n",
    "df = df[reordering]"
   ]
  },
  {
   "cell_type": "code",
   "execution_count": 35,
   "id": "2c8ea0e3-4bc3-4bbf-ab53-7077b867eb40",
   "metadata": {},
   "outputs": [
    {
     "data": {
      "text/html": [
       "<div>\n",
       "<style scoped>\n",
       "    .dataframe tbody tr th:only-of-type {\n",
       "        vertical-align: middle;\n",
       "    }\n",
       "\n",
       "    .dataframe tbody tr th {\n",
       "        vertical-align: top;\n",
       "    }\n",
       "\n",
       "    .dataframe thead th {\n",
       "        text-align: right;\n",
       "    }\n",
       "</style>\n",
       "<table border=\"1\" class=\"dataframe\">\n",
       "  <thead>\n",
       "    <tr style=\"text-align: right;\">\n",
       "      <th></th>\n",
       "      <th>JobID</th>\n",
       "      <th>Job_Designation</th>\n",
       "      <th>Involvement</th>\n",
       "      <th>Experince_level</th>\n",
       "      <th>Hr_name</th>\n",
       "      <th>Skills</th>\n",
       "      <th>CompanyName</th>\n",
       "      <th>Company_estab_year</th>\n",
       "      <th>AgeOfCompany</th>\n",
       "      <th>Industry</th>\n",
       "      <th>Location</th>\n",
       "      <th>employees_count</th>\n",
       "      <th>Job_url</th>\n",
       "    </tr>\n",
       "  </thead>\n",
       "  <tbody>\n",
       "    <tr>\n",
       "      <th>0</th>\n",
       "      <td>238770</td>\n",
       "      <td>Product Owner</td>\n",
       "      <td>Technical Management → Product Manageme</td>\n",
       "      <td>Mid Senior Level</td>\n",
       "      <td>Siddhartha S</td>\n",
       "      <td>Product Management, Agile, Data Analysis, Stakeholder Management, Warranty Management</td>\n",
       "      <td>AGCO Corporation</td>\n",
       "      <td>1990</td>\n",
       "      <td>33</td>\n",
       "      <td>Agriculture / Dairy</td>\n",
       "      <td>Bangalore</td>\n",
       "      <td>1000</td>\n",
       "      <td>https://www.instahyre.com/job-238770-product-owner-at-agco-corporation-bangalore/</td>\n",
       "    </tr>\n",
       "  </tbody>\n",
       "</table>\n",
       "</div>"
      ],
      "text/plain": [
       "    JobID Job_Designation                              Involvement  \\\n",
       "0  238770   Product Owner  Technical Management → Product Manageme   \n",
       "\n",
       "    Experince_level       Hr_name  \\\n",
       "0  Mid Senior Level  Siddhartha S   \n",
       "\n",
       "                                                                                  Skills  \\\n",
       "0  Product Management, Agile, Data Analysis, Stakeholder Management, Warranty Management   \n",
       "\n",
       "        CompanyName  Company_estab_year  AgeOfCompany             Industry  \\\n",
       "0  AGCO Corporation                1990            33  Agriculture / Dairy   \n",
       "\n",
       "    Location  employees_count  \\\n",
       "0  Bangalore             1000   \n",
       "\n",
       "                                                                             Job_url  \n",
       "0  https://www.instahyre.com/job-238770-product-owner-at-agco-corporation-bangalore/  "
      ]
     },
     "execution_count": 35,
     "metadata": {},
     "output_type": "execute_result"
    }
   ],
   "source": [
    "df.head(1)"
   ]
  },
  {
   "cell_type": "code",
   "execution_count": 36,
   "id": "c5926dc6-6b6b-41a1-a8c2-715154f22eb0",
   "metadata": {},
   "outputs": [
    {
     "data": {
      "text/plain": [
       "(622, 13)"
      ]
     },
     "execution_count": 36,
     "metadata": {},
     "output_type": "execute_result"
    }
   ],
   "source": [
    "df.shape"
   ]
  },
  {
   "cell_type": "code",
   "execution_count": 37,
   "id": "827c2a8d-124c-49c6-9de0-a4ac1a043b98",
   "metadata": {},
   "outputs": [
    {
     "data": {
      "text/plain": [
       "30      203\n",
       "125     189\n",
       "1000     81\n",
       "350      80\n",
       "5        39\n",
       "750      30\n",
       "Name: employees_count, dtype: int64"
      ]
     },
     "execution_count": 37,
     "metadata": {},
     "output_type": "execute_result"
    }
   ],
   "source": [
    "df['employees_count'].value_counts()"
   ]
  },
  {
   "cell_type": "code",
   "execution_count": 38,
   "id": "dd44afb9-0b6b-489a-937c-243aa3c9f648",
   "metadata": {},
   "outputs": [
    {
     "data": {
      "text/plain": [
       "Text(0, 0.5, 'Age of Company')"
      ]
     },
     "execution_count": 38,
     "metadata": {},
     "output_type": "execute_result"
    },
    {
     "data": {
      "image/png": "[encoded data removed]",
      "text/plain": [
       "<Figure size 640x480 with 1 Axes>"
      ]
     },
     "metadata": {},
     "output_type": "display_data"
    }
   ],
   "source": [
    "plt.scatter(df.employees_count,df.AgeOfCompany)\n",
    "plt.xlabel('Count of Employees')\n",
    "plt.ylabel('Age of Company')"
   ]
  },
  {
   "cell_type": "code",
   "execution_count": 39,
   "id": "a8c63306-8953-4688-ae9c-83b4bdece820",
   "metadata": {},
   "outputs": [
    {
     "data": {
      "image/png": "[encoded data removed]",
      "text/plain": [
       "<Figure size 640x480 with 1 Axes>"
      ]
     },
     "metadata": {},
     "output_type": "display_data"
    },
    {
     "data": {
      "image/png": "[encoded data removed]",
      "text/plain": [
       "<Figure size 640x480 with 1 Axes>"
      ]
     },
     "metadata": {},
     "output_type": "display_data"
    }
   ],
   "source": [
    "# df.employees_count,df.AgeOfCompany\n",
    "for i in ['employees_count', 'AgeOfCompany']:\n",
    "    sns.boxplot(x=df[i])\n",
    "    plt.show()"
   ]
  },
  {
   "cell_type": "code",
   "execution_count": 40,
   "id": "c619f380-be3b-4d51-9539-2aabb8fca2e1",
   "metadata": {},
   "outputs": [],
   "source": [
    "# removing the extreme outliers\n",
    "df = df[df['AgeOfCompany']<=50]"
   ]
  },
  {
   "cell_type": "code",
   "execution_count": 41,
   "id": "bac22e50-9f3f-45bf-b55b-f5d1597b853f",
   "metadata": {},
   "outputs": [
    {
     "data": {
      "text/plain": [
       "Text(0, 0.5, 'Age of Company')"
      ]
     },
     "execution_count": 41,
     "metadata": {},
     "output_type": "execute_result"
    },
    {
     "data": {
      "image/png": "[encoded data removed]",
      "text/plain": [
       "<Figure size 640x480 with 1 Axes>"
      ]
     },
     "metadata": {},
     "output_type": "display_data"
    }
   ],
   "source": [
    "plt.scatter(df.employees_count,df.AgeOfCompany)\n",
    "plt.xlabel('Count of Employees')\n",
    "plt.ylabel('Age of Company')"
   ]
  },
  {
   "cell_type": "code",
   "execution_count": 42,
   "id": "4b630c8a-4a21-493b-b7f1-d91396bf74f3",
   "metadata": {},
   "outputs": [
    {
     "data": {
      "text/html": [
       "<div>\n",
       "<style scoped>\n",
       "    .dataframe tbody tr th:only-of-type {\n",
       "        vertical-align: middle;\n",
       "    }\n",
       "\n",
       "    .dataframe tbody tr th {\n",
       "        vertical-align: top;\n",
       "    }\n",
       "\n",
       "    .dataframe thead th {\n",
       "        text-align: right;\n",
       "    }\n",
       "</style>\n",
       "<table border=\"1\" class=\"dataframe\">\n",
       "  <thead>\n",
       "    <tr style=\"text-align: right;\">\n",
       "      <th></th>\n",
       "      <th>JobID</th>\n",
       "      <th>Job_Designation</th>\n",
       "      <th>Involvement</th>\n",
       "      <th>Experince_level</th>\n",
       "      <th>Hr_name</th>\n",
       "      <th>Skills</th>\n",
       "      <th>CompanyName</th>\n",
       "      <th>Company_estab_year</th>\n",
       "      <th>AgeOfCompany</th>\n",
       "      <th>Industry</th>\n",
       "      <th>Location</th>\n",
       "      <th>employees_count</th>\n",
       "      <th>Job_url</th>\n",
       "    </tr>\n",
       "  </thead>\n",
       "  <tbody>\n",
       "    <tr>\n",
       "      <th>0</th>\n",
       "      <td>238770</td>\n",
       "      <td>Product Owner</td>\n",
       "      <td>Technical Management → Product Manageme</td>\n",
       "      <td>Mid Senior Level</td>\n",
       "      <td>Siddhartha S</td>\n",
       "      <td>Product Management, Agile, Data Analysis, Stakeholder Management, Warranty Management</td>\n",
       "      <td>AGCO Corporation</td>\n",
       "      <td>1990</td>\n",
       "      <td>33</td>\n",
       "      <td>Agriculture / Dairy</td>\n",
       "      <td>Bangalore</td>\n",
       "      <td>1000</td>\n",
       "      <td>https://www.instahyre.com/job-238770-product-owner-at-agco-corporation-bangalore/</td>\n",
       "    </tr>\n",
       "  </tbody>\n",
       "</table>\n",
       "</div>"
      ],
      "text/plain": [
       "    JobID Job_Designation                              Involvement  \\\n",
       "0  238770   Product Owner  Technical Management → Product Manageme   \n",
       "\n",
       "    Experince_level       Hr_name  \\\n",
       "0  Mid Senior Level  Siddhartha S   \n",
       "\n",
       "                                                                                  Skills  \\\n",
       "0  Product Management, Agile, Data Analysis, Stakeholder Management, Warranty Management   \n",
       "\n",
       "        CompanyName  Company_estab_year  AgeOfCompany             Industry  \\\n",
       "0  AGCO Corporation                1990            33  Agriculture / Dairy   \n",
       "\n",
       "    Location  employees_count  \\\n",
       "0  Bangalore             1000   \n",
       "\n",
       "                                                                             Job_url  \n",
       "0  https://www.instahyre.com/job-238770-product-owner-at-agco-corporation-bangalore/  "
      ]
     },
     "execution_count": 42,
     "metadata": {},
     "output_type": "execute_result"
    }
   ],
   "source": [
    "df.head(1)"
   ]
  },
  {
   "cell_type": "code",
   "execution_count": 43,
   "id": "eac2dc41-369f-49d9-983c-d3d13aa24369",
   "metadata": {},
   "outputs": [],
   "source": [
    "# df.to_csv('Merged_Data.csv',index=False) #Saving the ordered dataframe"
   ]
  },
  {
   "cell_type": "code",
   "execution_count": 44,
   "id": "09b368b7-7195-4c71-b6cf-01a1a4c2bef4",
   "metadata": {},
   "outputs": [
    {
     "data": {
      "text/html": [
       "<div>\n",
       "<style scoped>\n",
       "    .dataframe tbody tr th:only-of-type {\n",
       "        vertical-align: middle;\n",
       "    }\n",
       "\n",
       "    .dataframe tbody tr th {\n",
       "        vertical-align: top;\n",
       "    }\n",
       "\n",
       "    .dataframe thead th {\n",
       "        text-align: right;\n",
       "    }\n",
       "</style>\n",
       "<table border=\"1\" class=\"dataframe\">\n",
       "  <thead>\n",
       "    <tr style=\"text-align: right;\">\n",
       "      <th></th>\n",
       "      <th>JobID</th>\n",
       "      <th>Job_Designation</th>\n",
       "      <th>Involvement</th>\n",
       "      <th>Experince_level</th>\n",
       "      <th>Hr_name</th>\n",
       "      <th>Skills</th>\n",
       "      <th>CompanyName</th>\n",
       "      <th>Company_estab_year</th>\n",
       "      <th>AgeOfCompany</th>\n",
       "      <th>Industry</th>\n",
       "      <th>Location</th>\n",
       "      <th>employees_count</th>\n",
       "      <th>Job_url</th>\n",
       "    </tr>\n",
       "  </thead>\n",
       "  <tbody>\n",
       "    <tr>\n",
       "      <th>0</th>\n",
       "      <td>238770</td>\n",
       "      <td>Product Owner</td>\n",
       "      <td>Technical Management → Product Manageme</td>\n",
       "      <td>Mid Senior Level</td>\n",
       "      <td>Siddhartha S</td>\n",
       "      <td>Product Management, Agile, Data Analysis, Stakeholder Management, Warranty Management</td>\n",
       "      <td>AGCO Corporation</td>\n",
       "      <td>1990</td>\n",
       "      <td>33</td>\n",
       "      <td>Agriculture / Dairy</td>\n",
       "      <td>Bangalore</td>\n",
       "      <td>1000</td>\n",
       "      <td>https://www.instahyre.com/job-238770-product-owner-at-agco-corporation-bangalore/</td>\n",
       "    </tr>\n",
       "  </tbody>\n",
       "</table>\n",
       "</div>"
      ],
      "text/plain": [
       "    JobID Job_Designation                              Involvement  \\\n",
       "0  238770   Product Owner  Technical Management → Product Manageme   \n",
       "\n",
       "    Experince_level       Hr_name  \\\n",
       "0  Mid Senior Level  Siddhartha S   \n",
       "\n",
       "                                                                                  Skills  \\\n",
       "0  Product Management, Agile, Data Analysis, Stakeholder Management, Warranty Management   \n",
       "\n",
       "        CompanyName  Company_estab_year  AgeOfCompany             Industry  \\\n",
       "0  AGCO Corporation                1990            33  Agriculture / Dairy   \n",
       "\n",
       "    Location  employees_count  \\\n",
       "0  Bangalore             1000   \n",
       "\n",
       "                                                                             Job_url  \n",
       "0  https://www.instahyre.com/job-238770-product-owner-at-agco-corporation-bangalore/  "
      ]
     },
     "execution_count": 44,
     "metadata": {},
     "output_type": "execute_result"
    }
   ],
   "source": [
    "df.head(1)"
   ]
  },
  {
   "cell_type": "code",
   "execution_count": 45,
   "id": "a441576f-8cbe-4e72-b450-76da08093551",
   "metadata": {},
   "outputs": [
    {
     "data": {
      "image/png": "[encoded data removed]",
      "text/plain": [
       "<Figure size 640x480 with 1 Axes>"
      ]
     },
     "metadata": {},
     "output_type": "display_data"
    }
   ],
   "source": [
    "# using k-mean clustering algorithm to make class of companies based on age of company, employee_count\n",
    "\n",
    "import matplotlib.pyplot as plt\n",
    "from sklearn.cluster import KMeans\n",
    "from sklearn.preprocessing import MinMaxScaler\n",
    "import warnings\n",
    "warnings.filterwarnings(\"ignore\")\n",
    "sc = MinMaxScaler()\n",
    "\n",
    "df[['employees_count_sc', 'AgeOfCompany_sc']] = sc.fit_transform(df[['employees_count', 'AgeOfCompany']])\n",
    "\n",
    "sse = []\n",
    "\n",
    "# Elbow method plt\n",
    "\n",
    "for i in range(1, 11):\n",
    "    kmeans = KMeans(n_clusters=i, init='k-means++', max_iter=11000,n_init=10, random_state=42)\n",
    "    kmeans.fit(df[['employees_count_sc', 'AgeOfCompany_sc']])\n",
    "    sse.append(kmeans.inertia_)\n",
    "    \n",
    "plt.plot(range(1, 11), sse)\n",
    "plt.title('Elbow Method')\n",
    "plt.xlabel('Number of clusters')\n",
    "plt.ylabel('Sum of Square Error')\n",
    "plt.show()"
   ]
  },
  {
   "cell_type": "code",
   "execution_count": 46,
   "id": "40928909-1d57-48ff-b3fc-167bedb0190d",
   "metadata": {},
   "outputs": [],
   "source": [
    "# taking 5 clusters for the model on the basis of elbow mtd\n",
    "km = KMeans(n_clusters=5, init='k-means++', max_iter=11000, n_init=10, random_state=42)\n",
    "y_predicted = km.fit_predict(df[['employees_count_sc', 'AgeOfCompany_sc']])\n",
    "y_predicted\n",
    "df['Class']=y_predicted"
   ]
  },
  {
   "cell_type": "code",
   "execution_count": 47,
   "id": "fc3ac416-5857-4a32-9e63-b7697c0961fe",
   "metadata": {},
   "outputs": [
    {
     "data": {
      "text/plain": [
       "array([[0.05993699, 0.13184875],\n",
       "       [0.96167277, 0.62856113],\n",
       "       [0.34673367, 0.21382979],\n",
       "       [0.1798995 , 0.51129296],\n",
       "       [0.89007538, 0.24778369]])"
      ]
     },
     "execution_count": 47,
     "metadata": {},
     "output_type": "execute_result"
    }
   ],
   "source": [
    "# cluster's centers\n",
    "km.cluster_centers_"
   ]
  },
  {
   "cell_type": "code",
   "execution_count": 48,
   "id": "103437b7-fdb5-4352-901e-627a461ea391",
   "metadata": {},
   "outputs": [
    {
     "data": {
      "text/plain": [
       "<matplotlib.legend.Legend at 0x2b6d15cb750>"
      ]
     },
     "execution_count": 48,
     "metadata": {},
     "output_type": "execute_result"
    },
    {
     "data": {
      "image/png": "[encoded data removed]",
      "text/plain": [
       "<Figure size 640x480 with 1 Axes>"
      ]
     },
     "metadata": {},
     "output_type": "display_data"
    }
   ],
   "source": [
    "# plotting clusters with their centroids\n",
    "\n",
    "df1 = df[df.Class==0]\n",
    "df2 = df[df.Class==1]\n",
    "df3 = df[df.Class==2]\n",
    "df4 = df[df.Class==3]\n",
    "df5 = df[df.Class==4]\n",
    "# df[['employees_count', 'AgeOfCompany']]\n",
    "plt.scatter(df1.employees_count_sc, df1.AgeOfCompany_sc,color='green',label='Class-0')\n",
    "plt.scatter(df2.employees_count_sc, df2.AgeOfCompany_sc,color='red',label='Class-1')\n",
    "plt.scatter(df3.employees_count_sc, df3.AgeOfCompany_sc,color='yellow',label='Class-2')\n",
    "plt.scatter(df4.employees_count_sc, df4.AgeOfCompany_sc,color='blue',label='Class-3')\n",
    "plt.scatter(df5.employees_count_sc, df5.AgeOfCompany_sc, color='cyan',label='Class-4')\n",
    "plt.xlabel(\"Scaled value of Employee Counts\")\n",
    "plt.ylabel('Scaled value of Age of Company')\n",
    "plt.title('Classes of Companies')\n",
    "\n",
    "plt.scatter(km.cluster_centers_[:,0],km.cluster_centers_[:,1],color='purple',marker='*',label='Centroid')\n",
    "plt.legend()"
   ]
  },
  {
   "cell_type": "code",
   "execution_count": 49,
   "id": "ca0a17f8-0e0d-46a5-99dd-b1248b740629",
   "metadata": {},
   "outputs": [
    {
     "data": {
      "text/html": [
       "<div>\n",
       "<style scoped>\n",
       "    .dataframe tbody tr th:only-of-type {\n",
       "        vertical-align: middle;\n",
       "    }\n",
       "\n",
       "    .dataframe tbody tr th {\n",
       "        vertical-align: top;\n",
       "    }\n",
       "\n",
       "    .dataframe thead th {\n",
       "        text-align: right;\n",
       "    }\n",
       "</style>\n",
       "<table border=\"1\" class=\"dataframe\">\n",
       "  <thead>\n",
       "    <tr style=\"text-align: right;\">\n",
       "      <th></th>\n",
       "      <th>JobID</th>\n",
       "      <th>Job_Designation</th>\n",
       "      <th>Involvement</th>\n",
       "      <th>Experince_level</th>\n",
       "      <th>Hr_name</th>\n",
       "      <th>Skills</th>\n",
       "      <th>CompanyName</th>\n",
       "      <th>Company_estab_year</th>\n",
       "      <th>AgeOfCompany</th>\n",
       "      <th>Industry</th>\n",
       "      <th>Location</th>\n",
       "      <th>employees_count</th>\n",
       "      <th>Job_url</th>\n",
       "      <th>employees_count_sc</th>\n",
       "      <th>AgeOfCompany_sc</th>\n",
       "      <th>Class</th>\n",
       "    </tr>\n",
       "  </thead>\n",
       "  <tbody>\n",
       "    <tr>\n",
       "      <th>0</th>\n",
       "      <td>238770</td>\n",
       "      <td>Product Owner</td>\n",
       "      <td>Technical Management → Product Manageme</td>\n",
       "      <td>Mid Senior Level</td>\n",
       "      <td>Siddhartha S</td>\n",
       "      <td>Product Management, Agile, Data Analysis, Stakeholder Management, Warranty Management</td>\n",
       "      <td>AGCO Corporation</td>\n",
       "      <td>1990</td>\n",
       "      <td>33</td>\n",
       "      <td>Agriculture / Dairy</td>\n",
       "      <td>Bangalore</td>\n",
       "      <td>1000</td>\n",
       "      <td>https://www.instahyre.com/job-238770-product-owner-at-agco-corporation-bangalore/</td>\n",
       "      <td>1.0</td>\n",
       "      <td>0.702128</td>\n",
       "      <td>1</td>\n",
       "    </tr>\n",
       "  </tbody>\n",
       "</table>\n",
       "</div>"
      ],
      "text/plain": [
       "    JobID Job_Designation                              Involvement  \\\n",
       "0  238770   Product Owner  Technical Management → Product Manageme   \n",
       "\n",
       "    Experince_level       Hr_name  \\\n",
       "0  Mid Senior Level  Siddhartha S   \n",
       "\n",
       "                                                                                  Skills  \\\n",
       "0  Product Management, Agile, Data Analysis, Stakeholder Management, Warranty Management   \n",
       "\n",
       "        CompanyName  Company_estab_year  AgeOfCompany             Industry  \\\n",
       "0  AGCO Corporation                1990            33  Agriculture / Dairy   \n",
       "\n",
       "    Location  employees_count  \\\n",
       "0  Bangalore             1000   \n",
       "\n",
       "                                                                             Job_url  \\\n",
       "0  https://www.instahyre.com/job-238770-product-owner-at-agco-corporation-bangalore/   \n",
       "\n",
       "   employees_count_sc  AgeOfCompany_sc  Class  \n",
       "0                 1.0         0.702128      1  "
      ]
     },
     "execution_count": 49,
     "metadata": {},
     "output_type": "execute_result"
    }
   ],
   "source": [
    "df.head(1)"
   ]
  },
  {
   "cell_type": "code",
   "execution_count": 50,
   "id": "e2db05d1-8e59-40b4-aec0-129987b47714",
   "metadata": {},
   "outputs": [],
   "source": [
    "#Saving the ordered dataframe\n",
    "df.to_csv('Merged_Data.csv',index=False) "
   ]
  },
  {
   "cell_type": "code",
   "execution_count": null,
   "id": "4dc74895-42d3-4256-9bd5-8892544ef5d7",
   "metadata": {},
   "outputs": [],
   "source": []
  },
  {
   "cell_type": "code",
   "execution_count": null,
   "id": "94672e69-3d7d-4707-bf9d-330fb628e886",
   "metadata": {},
   "outputs": [],
   "source": []
  }
 ],
 "metadata": {
  "kernelspec": {
   "display_name": "Python 3 (ipykernel)",
   "language": "python",
   "name": "python3"
  },
  "language_info": {
   "codemirror_mode": {
    "name": "ipython",
    "version": 3
   },
   "file_extension": ".py",
   "mimetype": "text/x-python",
   "name": "python",
   "nbconvert_exporter": "python",
   "pygments_lexer": "ipython3",
   "version": "3.11.2"
  }
 },
 "nbformat": 4,
 "nbformat_minor": 5
}
